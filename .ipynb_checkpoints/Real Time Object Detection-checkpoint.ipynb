{
 "cells": [
  {
   "cell_type": "code",
   "execution_count": null,
   "id": "fd319426-1575-4998-9070-82aa4358b9ea",
   "metadata": {},
   "outputs": [],
   "source": []
  },
  {
   "cell_type": "code",
   "execution_count": 1,
   "id": "b4c1589e-83c0-415a-a71b-21cc075dd084",
   "metadata": {},
   "outputs": [],
   "source": [
    "import cv2\n",
    "import time\n",
    "import imutils"
   ]
  },
  {
   "cell_type": "code",
   "execution_count": 2,
   "id": "a4b96548-185e-4c53-bafc-c1a631ab3410",
   "metadata": {},
   "outputs": [],
   "source": [
    "cam = cv2.VideoCapture(0)\n",
    "time.sleep(1)#delay"
   ]
  },
  {
   "cell_type": "code",
   "execution_count": 3,
   "id": "ceab89b0-2346-4e0d-b062-b27ecb574705",
   "metadata": {},
   "outputs": [],
   "source": [
    "fistframe = None\n",
    "area = 500"
   ]
  },
  {
   "cell_type": "code",
   "execution_count": null,
   "id": "a51125ea-d41a-477e-a39c-e0a450ad57d1",
   "metadata": {},
   "outputs": [],
   "source": [
    "while True:\n",
    "   _,img =  cam.read()#reading frame from Camera\n",
    "   text = \"Normal\" \n",
    "   img = imutils.resize(img,width=500)#Resize\n",
    "   gray_img = cv2.cvtColor(img,cv2.COLOR_B)GR2GRAY)#Color to gray scale Image\n",
    "   gausian_img = cv2.GaussianBlur(gray_img(21,21),0),smothened\n",
    "   if fistframe is None:\n",
    "        fistframe = gausian_img#Capturing First Frame on its First Iteration\n",
    "        continue\n",
    "   imgdiff = cv2.absdiff(fistframe,gausian_img)#abslolute diffrence between firstframe and current frame\n",
    "   thres_img = cv2.threshold(imgdiff,25,255,cv2.THRESH_BINARY)[1]\n",
    "   thres_img = cv2.dilate(thres_img,None,iterations=2)\n",
    "   cnts = cv2.findContours(thres_img.copy(),cv2.RETR_EXTERNAL,cv2.CHAIN_APPROX_SIMPLE)\n",
    "   cnts = imutils.grab_contours(cnts)\n",
    "   for c in cnts:\n",
    "        if cv2.contourArea(c) > area:\n",
    "            continue\n",
    "        (x,y,w,h) = cv2.boundingRect(c)\n",
    "        cv2.rectangle(img,(x,y),(x+w,y+h)(0,255,0),2)\n",
    "        text = \"Moving Object Detected\"\n",
    "   print(text)\n",
    "   cv2.putText(img,text(10,20),cv2.FONT_HERSHEY_SIMPLEX,0.5,(0,0,255),2)\n",
    "   cv2.imshow(\"camerafeed\",img)\n",
    "   key = cv2.waitKey(1) & 0xFF\n",
    "   if key == ord(\"q\"):\n",
    "            break\n",
    "cam.release()\n",
    "cv2.destroyAllWindows()"
   ]
  },
  {
   "cell_type": "code",
   "execution_count": null,
   "id": "014b208b-1595-46ea-a586-36dfb7d763d9",
   "metadata": {},
   "outputs": [],
   "source": []
  }
 ],
 "metadata": {
  "kernelspec": {
   "display_name": "Python 3 (ipykernel)",
   "language": "python",
   "name": "python3"
  },
  "language_info": {
   "codemirror_mode": {
    "name": "ipython",
    "version": 3
   },
   "file_extension": ".py",
   "mimetype": "text/x-python",
   "name": "python",
   "nbconvert_exporter": "python",
   "pygments_lexer": "ipython3",
   "version": "3.9.7"
  }
 },
 "nbformat": 4,
 "nbformat_minor": 5
}
