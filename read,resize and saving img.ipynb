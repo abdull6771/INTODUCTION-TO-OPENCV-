{
 "cells": [
  {
   "cell_type": "markdown",
   "id": "5a2ce7cf-d613-4d3a-a338-7d3e37c106c7",
   "metadata": {},
   "source": [
    "#### READING,RESIZING AND SAVING IMAGE USING CV2"
   ]
  },
  {
   "cell_type": "code",
   "execution_count": 1,
   "id": "d3cda66a-d722-423e-8dd7-9c79250cbdb1",
   "metadata": {},
   "outputs": [],
   "source": [
    "import cv2\n",
    "import imutils"
   ]
  },
  {
   "cell_type": "code",
   "execution_count": 2,
   "id": "d998b529-779b-4c3e-b820-32f5454c57a0",
   "metadata": {},
   "outputs": [],
   "source": [
    "img = cv2.imread(\"test.jpg\")#Reading the image"
   ]
  },
  {
   "cell_type": "code",
   "execution_count": 3,
   "id": "2e814bd2-4c2d-4422-8ea4-4b0a158103ee",
   "metadata": {},
   "outputs": [],
   "source": [
    "resize_img = imutils.resize(img,width=90)#Resizing the image"
   ]
  },
  {
   "cell_type": "code",
   "execution_count": 4,
   "id": "f286c2c0-b4cf-4528-b71f-d6eb5f7bccca",
   "metadata": {},
   "outputs": [
    {
     "data": {
      "text/plain": [
       "True"
      ]
     },
     "execution_count": 4,
     "metadata": {},
     "output_type": "execute_result"
    }
   ],
   "source": [
    "cv2.imwrite(\"resize_img.jpg\",resize_img)#Saving the resize image"
   ]
  },
  {
   "cell_type": "code",
   "execution_count": null,
   "id": "6fac3716-14f6-42e9-9175-b89e87b9d55b",
   "metadata": {},
   "outputs": [],
   "source": []
  }
 ],
 "metadata": {
  "kernelspec": {
   "display_name": "Python 3 (ipykernel)",
   "language": "python",
   "name": "python3"
  },
  "language_info": {
   "codemirror_mode": {
    "name": "ipython",
    "version": 3
   },
   "file_extension": ".py",
   "mimetype": "text/x-python",
   "name": "python",
   "nbconvert_exporter": "python",
   "pygments_lexer": "ipython3",
   "version": "3.9.7"
  }
 },
 "nbformat": 4,
 "nbformat_minor": 5
}
