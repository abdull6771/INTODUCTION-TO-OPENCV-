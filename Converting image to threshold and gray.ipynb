{
 "cells": [
  {
   "cell_type": "markdown",
   "id": "c92a1dee-c601-4455-95eb-0733f17bfa9a",
   "metadata": {},
   "source": [
    "#### COVERTING IMAGE TO GRAY SCALE AND THRESHOLD"
   ]
  },
  {
   "cell_type": "code",
   "execution_count": 9,
   "id": "5d471f23-8a82-42b2-b990-85e14a091e26",
   "metadata": {},
   "outputs": [],
   "source": [
    "import cv2\n",
    "import imutils"
   ]
  },
  {
   "cell_type": "code",
   "execution_count": 10,
   "id": "68ac03b3-82dc-441f-869b-07bf43b1a3d9",
   "metadata": {},
   "outputs": [],
   "source": [
    "img = cv2.imread(\"IMG_0963.JPG\")#Reading the Image"
   ]
  },
  {
   "cell_type": "code",
   "execution_count": 11,
   "id": "914f33a1-456a-4595-bd4a-31d9138a8bbd",
   "metadata": {},
   "outputs": [],
   "source": [
    "resize1 = imutils.resize(img,width=200)"
   ]
  },
  {
   "cell_type": "code",
   "execution_count": 12,
   "id": "09b441a3-3241-41f6-a3a0-410c6685e002",
   "metadata": {},
   "outputs": [],
   "source": [
    "gray_img = cv2.cvtColor(resize1,cv2.COLOR_BGR2GRAY)"
   ]
  },
  {
   "cell_type": "code",
   "execution_count": 13,
   "id": "9d2f0ba0-9382-4a4c-a1d4-440d5393ac17",
   "metadata": {},
   "outputs": [
    {
     "data": {
      "text/plain": [
       "True"
      ]
     },
     "execution_count": 13,
     "metadata": {},
     "output_type": "execute_result"
    }
   ],
   "source": [
    "cv2.imwrite(\"aa.jpg\",gray_img)"
   ]
  },
  {
   "cell_type": "code",
   "execution_count": 23,
   "id": "7d931ec7-b2a9-4a37-8f21-fa797c9194ce",
   "metadata": {},
   "outputs": [],
   "source": [
    "thres_img = cv2.threshold(gray_img,180,255,cv2.THRESH_BINARY)[1]"
   ]
  },
  {
   "cell_type": "code",
   "execution_count": 27,
   "id": "49f366c5-cbed-4ae1-9548-2723e9011e5e",
   "metadata": {},
   "outputs": [],
   "source": [
    "thres_img = cv2.dilate(thres_img,None,iterations=1)"
   ]
  },
  {
   "cell_type": "code",
   "execution_count": 28,
   "id": "cc236bfe-12c4-48a3-8a73-3a6913ae4fbc",
   "metadata": {},
   "outputs": [],
   "source": [
    "resize = imutils.resize(thres_img,width=200)"
   ]
  },
  {
   "cell_type": "code",
   "execution_count": 29,
   "id": "54df342b-e0d7-4635-9950-b57ee08c66ce",
   "metadata": {},
   "outputs": [
    {
     "data": {
      "text/plain": [
       "True"
      ]
     },
     "execution_count": 29,
     "metadata": {},
     "output_type": "execute_result"
    }
   ],
   "source": [
    "cv2.imwrite(\"threshold_img.jpg\",resize)"
   ]
  },
  {
   "cell_type": "code",
   "execution_count": null,
   "id": "e38c21d7-acf3-4aa5-a397-b461013e655d",
   "metadata": {},
   "outputs": [],
   "source": []
  }
 ],
 "metadata": {
  "kernelspec": {
   "display_name": "Python 3 (ipykernel)",
   "language": "python",
   "name": "python3"
  },
  "language_info": {
   "codemirror_mode": {
    "name": "ipython",
    "version": 3
   },
   "file_extension": ".py",
   "mimetype": "text/x-python",
   "name": "python",
   "nbconvert_exporter": "python",
   "pygments_lexer": "ipython3",
   "version": "3.9.7"
  }
 },
 "nbformat": 4,
 "nbformat_minor": 5
}
