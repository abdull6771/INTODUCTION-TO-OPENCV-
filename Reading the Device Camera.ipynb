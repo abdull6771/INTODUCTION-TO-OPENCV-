{
 "cells": [
  {
   "cell_type": "markdown",
   "id": "a65f8bd4-fe93-4075-93cd-dab8fb66b041",
   "metadata": {},
   "source": [
    "#### Reading the Device Camera"
   ]
  },
  {
   "cell_type": "code",
   "execution_count": 5,
   "id": "c80d30d9-684b-4479-8056-ad7ee6863d18",
   "metadata": {},
   "outputs": [],
   "source": [
    "import cv2\n",
    "import time\n",
    "import imutils"
   ]
  },
  {
   "cell_type": "code",
   "execution_count": 6,
   "id": "f50c0926-f97e-44ff-ac0b-ab1043093deb",
   "metadata": {},
   "outputs": [],
   "source": [
    "cam = cv2.VideoCapture(0)\n",
    "while True:\n",
    "    _,img = cam.read()#Reading the Frame From the Camera\n",
    "    #resize = imutils.resize(img,width=90)\n",
    "    cv2.imshow(\"VideoStream\", img) \n",
    "    key = cv2.waitKey(1) & 0xFF\n",
    "    if key == ord(\"q\"):\n",
    "        break\n",
    "cam.release()#releasing the camera\n",
    "cv2.destroyAllWindows()#Close all windows"
   ]
  },
  {
   "cell_type": "code",
   "execution_count": null,
   "id": "84cbf0a3-9a71-4aac-b805-1076326bb9ba",
   "metadata": {},
   "outputs": [],
   "source": []
  }
 ],
 "metadata": {
  "kernelspec": {
   "display_name": "Python 3 (ipykernel)",
   "language": "python",
   "name": "python3"
  },
  "language_info": {
   "codemirror_mode": {
    "name": "ipython",
    "version": 3
   },
   "file_extension": ".py",
   "mimetype": "text/x-python",
   "name": "python",
   "nbconvert_exporter": "python",
   "pygments_lexer": "ipython3",
   "version": "3.9.7"
  }
 },
 "nbformat": 4,
 "nbformat_minor": 5
}
