{
 "cells": [
  {
   "cell_type": "markdown",
   "id": "c95afe21-1e5b-4f8e-aaad-bbeb520caa53",
   "metadata": {},
   "source": [
    "#### READING AND SAVING IMAGE USING CV2"
   ]
  },
  {
   "cell_type": "code",
   "execution_count": 1,
   "id": "033e2a43-a657-49ae-8150-1f203bc4ce6e",
   "metadata": {},
   "outputs": [],
   "source": [
    "import cv2"
   ]
  },
  {
   "cell_type": "code",
   "execution_count": 2,
   "id": "a233ea4b-9b7a-4b9f-903d-ae49a3da4c57",
   "metadata": {},
   "outputs": [],
   "source": [
    "img = cv2.imread(\"test.jpg\")#Reading Image from the Folder name test and jpg format"
   ]
  },
  {
   "cell_type": "code",
   "execution_count": 3,
   "id": "49497e98-b682-4eb3-990a-932a944745da",
   "metadata": {},
   "outputs": [
    {
     "data": {
      "text/plain": [
       "True"
      ]
     },
     "execution_count": 3,
     "metadata": {},
     "output_type": "execute_result"
    }
   ],
   "source": [
    "cv2.imwrite(\"save_img.jpg\",img)#Saving the read image and named it save_img"
   ]
  },
  {
   "cell_type": "code",
   "execution_count": null,
   "id": "49483e36-9585-4a00-b748-dfaeb59f84a3",
   "metadata": {},
   "outputs": [],
   "source": []
  }
 ],
 "metadata": {
  "kernelspec": {
   "display_name": "Python 3 (ipykernel)",
   "language": "python",
   "name": "python3"
  },
  "language_info": {
   "codemirror_mode": {
    "name": "ipython",
    "version": 3
   },
   "file_extension": ".py",
   "mimetype": "text/x-python",
   "name": "python",
   "nbconvert_exporter": "python",
   "pygments_lexer": "ipython3",
   "version": "3.9.7"
  }
 },
 "nbformat": 4,
 "nbformat_minor": 5
}
